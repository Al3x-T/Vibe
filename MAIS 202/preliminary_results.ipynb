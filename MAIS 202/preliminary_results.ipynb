version https://git-lfs.github.com/spec/v1
oid sha256:bb5c01114744c571fc769f597b45a4ca3710156943309c8af3949b9df7cba2f1
size 338094
