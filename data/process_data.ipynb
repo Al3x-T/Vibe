{
 "cells": [
  {
   "cell_type": "code",
   "execution_count": 2,
   "metadata": {},
   "outputs": [],
   "source": [
    "import numpy as np\n",
    "import pandas as pd\n",
    "\n",
    "from sklearn.preprocessing import MinMaxScaler\n",
    "from sklearn.preprocessing import OneHotEncoder\n"
   ]
  },
  {
   "cell_type": "code",
   "execution_count": 9,
   "metadata": {},
   "outputs": [
    {
     "name": "stdout",
     "output_type": "stream",
     "text": [
      "Memory Usage (Before):  927811328\n",
      "Number of artists with at least 2 songs: 50359\n",
      "Number of artists with less than 2 songs: 13800\n",
      "Number of artists with at least 2 songs and their 125 most popular songs:\n",
      "Number of songs removed: 122658\n",
      "Number of songs left: 1037106\n"
     ]
    },
    {
     "name": "stderr",
     "output_type": "stream",
     "text": [
      "C:\\Users\\alext\\AppData\\Local\\Temp\\ipykernel_35048\\2125861250.py:54: SettingWithCopyWarning: \n",
      "A value is trying to be set on a copy of a slice from a DataFrame\n",
      "\n",
      "See the caveats in the documentation: https://pandas.pydata.org/pandas-docs/stable/user_guide/indexing.html#returning-a-view-versus-a-copy\n",
      "  df_most_popular.sort_index(inplace=True)\n"
     ]
    },
    {
     "name": "stdout",
     "output_type": "stream",
     "text": [
      "There are 31808 songs that are a remix.\n",
      "Memory Usage (After):  175927150\n",
      "Memory Usage (From File):  175927150\n",
      "Number of artists:  50297\n",
      "Number of songs:  1005298\n"
     ]
    }
   ],
   "source": [
    "df = pd.read_csv('../data.csv')\n",
    "\n",
    "df.head()\n",
    "df.drop(['Unnamed: 0'], axis=1, inplace=True)\n",
    "\n",
    "# Encode and process data\n",
    "col = ['year', 'key', 'popularity', 'acousticness', 'danceability', 'duration_ms',\n",
    "       'energy', 'instrumentalness', 'liveness', 'loudness', 'speechiness',\n",
    "       'tempo', 'valence', 'time_signature']\n",
    "scaler = MinMaxScaler()\n",
    "df[col] = scaler.fit_transform(df[col])\n",
    "\n",
    "encoder = OneHotEncoder(sparse_output=False, handle_unknown=\"ignore\")\n",
    "enc = pd.DataFrame(encoder.fit_transform(np.array(df[\"genre\"]).reshape(-1,1)))\n",
    "enc.columns = df[\"genre\"].unique()\n",
    "\n",
    "df[enc.columns] = enc\n",
    "df = df.drop(\"genre\", axis=1)\n",
    "\n",
    "memory_usage = df.memory_usage(index=True).sum()\n",
    "print(\"Memory Usage (Before): \", memory_usage)\n",
    "\n",
    "# Assuming you have a DataFrame df with 'artist_name', 'track_name', and 'popularity' columns\n",
    "min_songs = 2  # Minimum number of songs for an artist to be retained\n",
    "cap = 125  # Maximum number of most popular songs to keep for each artist\n",
    "\n",
    "# Step 1: Group the DataFrame by 'artist_name' and count the number of songs for each artist\n",
    "artist_song_counts = df['artist_name'].value_counts()\n",
    "\n",
    "print(\"Number of artists with at least\", min_songs, \"songs:\", sum(artist_song_counts >= min_songs))\n",
    "print(\"Number of artists with less than\", min_songs, \"songs:\", sum(artist_song_counts < min_songs))\n",
    "\n",
    "# Step 2: Create a mask to filter artists with at least 'min_songs' songs\n",
    "artists_with_min_songs = artist_song_counts.index[artist_song_counts >= min_songs]\n",
    "\n",
    "# Step 3: Apply the mask to the original DataFrame to keep only relevant artists\n",
    "df_filtered = df[df['artist_name'].isin(artists_with_min_songs)]\n",
    "\n",
    "# Step 4: Sort the DataFrame by 'popularity' within each artist's group in descending order\n",
    "df_sorted = df_filtered.sort_values(by=['artist_name', 'popularity'], ascending=[True, False])\n",
    "\n",
    "# Step 5: Keep the top 'cap' most popular songs for each artist\n",
    "df_most_popular = df_sorted.groupby('artist_name').head(cap)\n",
    "\n",
    "# Step 6: Calculate the number of songs removed\n",
    "total_songs_removed = len(df) - len(df_most_popular)\n",
    "\n",
    "# Step 7: Print the results\n",
    "print(\"Number of artists with at least\", min_songs, \"songs and their\", cap, \"most popular songs:\")\n",
    "print(\"Number of songs removed:\", total_songs_removed)\n",
    "print(\"Number of songs left:\", len(df_most_popular))\n",
    "\n",
    "# Revert to default sorting by 'index'\n",
    "df_most_popular.sort_index(inplace=True)\n",
    "\n",
    "df = df_most_popular.dropna(subset=['track_name'])\n",
    "# Count and print the number of songs that are a remix\n",
    "remix_count = df[df['track_name'].str.contains(' remix', case=False)].shape[0]\n",
    "print(f\"There are {remix_count} songs that are a remix.\")\n",
    "df = df[~df['track_name'].str.contains(' remix', case=False)]\n",
    "\n",
    "df[df.columns[3:17]] = df[df.columns[3:17]].astype('float32')\n",
    "\n",
    "df[df.columns[9]] = df[df.columns[9]].astype('int8')\n",
    "\n",
    "# Convert columns 19+ to integers\n",
    "df[df.columns[18:]] = df[df.columns[18:]].astype('int8')\n",
    "\n",
    "memory_usage = df.memory_usage(index=True).sum()\n",
    "print(\"Memory Usage (After): \", memory_usage)\n",
    "\n",
    "#df.to_csv(\"data_encoded.csv\")\n",
    "df.to_parquet(\"data_encoded.parquet\")\n",
    "\n",
    "#df = pd.read_csv('data_encoded.csv')\n",
    "df = pd.read_parquet(\"data_encoded.parquet\")\n",
    "memory_usage = df.memory_usage(index=True).sum()\n",
    "print(\"Memory Usage (From File): \", memory_usage)\n",
    "\n",
    "#number of artists\n",
    "print(\"Number of artists: \", len(df['artist_name'].unique()))\n",
    "#number of songs\n",
    "print(\"Number of songs: \", len(df))"
   ]
  },
  {
   "cell_type": "code",
   "execution_count": 10,
   "metadata": {},
   "outputs": [
    {
     "name": "stdout",
     "output_type": "stream",
     "text": [
      "Number of songs:  1005298\n"
     ]
    }
   ],
   "source": [
    "print(\"Number of songs: \", len(df))"
   ]
  }
 ],
 "metadata": {
  "kernelspec": {
   "display_name": "Python 3",
   "language": "python",
   "name": "python3"
  },
  "language_info": {
   "codemirror_mode": {
    "name": "ipython",
    "version": 3
   },
   "file_extension": ".py",
   "mimetype": "text/x-python",
   "name": "python",
   "nbconvert_exporter": "python",
   "pygments_lexer": "ipython3",
   "version": "3.10.11"
  }
 },
 "nbformat": 4,
 "nbformat_minor": 2
}
